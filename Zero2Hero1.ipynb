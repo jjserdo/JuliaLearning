{
 "cells": [
  {
   "cell_type": "markdown",
   "metadata": {},
   "source": [
    "# Part 1"
   ]
  },
  {
   "cell_type": "code",
   "execution_count": null,
   "metadata": {},
   "outputs": [],
   "source": []
  },
  {
   "cell_type": "code",
   "execution_count": null,
   "metadata": {},
   "outputs": [],
   "source": [
    "x = 3"
   ]
  },
  {
   "cell_type": "code",
   "execution_count": null,
   "metadata": {},
   "outputs": [],
   "source": [
    "y = x^2.6"
   ]
  },
  {
   "cell_type": "code",
   "execution_count": null,
   "metadata": {},
   "outputs": [],
   "source": [
    "x += 3"
   ]
  },
  {
   "cell_type": "code",
   "execution_count": null,
   "metadata": {},
   "outputs": [],
   "source": [
    "2x - 12.54y * 1.2e-5x"
   ]
  },
  {
   "cell_type": "code",
   "execution_count": null,
   "metadata": {},
   "outputs": [],
   "source": [
    "typeof(x)"
   ]
  },
  {
   "cell_type": "code",
   "execution_count": null,
   "metadata": {},
   "outputs": [],
   "source": [
    "typeof(1.5)"
   ]
  },
  {
   "cell_type": "code",
   "execution_count": null,
   "metadata": {},
   "outputs": [],
   "source": [
    "\"I am doing math inside a string: $(y^2-x)\""
   ]
  },
  {
   "cell_type": "code",
   "execution_count": null,
   "metadata": {},
   "outputs": [],
   "source": [
    "δ = 4 # \\delta"
   ]
  },
  {
   "cell_type": "code",
   "execution_count": null,
   "metadata": {},
   "outputs": [],
   "source": [
    "😄 = 0  # \\:smile: "
   ]
  },
  {
   "cell_type": "code",
   "execution_count": null,
   "metadata": {},
   "outputs": [],
   "source": [
    "myfave = (\"purple\", \"cats\", 0)"
   ]
  },
  {
   "cell_type": "code",
   "execution_count": null,
   "metadata": {},
   "outputs": [],
   "source": [
    "myfave[1]"
   ]
  },
  {
   "cell_type": "code",
   "execution_count": null,
   "metadata": {},
   "outputs": [],
   "source": [
    "a,b,c = myfave"
   ]
  },
  {
   "cell_type": "code",
   "execution_count": null,
   "metadata": {},
   "outputs": [],
   "source": [
    "# Named Tuples\n",
    "nt = (x = 5, y = \"str\", z = 5/3)"
   ]
  },
  {
   "cell_type": "code",
   "execution_count": null,
   "metadata": {},
   "outputs": [],
   "source": [
    "nt[1]"
   ]
  },
  {
   "cell_type": "code",
   "execution_count": null,
   "metadata": {},
   "outputs": [],
   "source": [
    "nt.x\n",
    "nt[:x]"
   ]
  },
  {
   "cell_type": "code",
   "execution_count": null,
   "metadata": {},
   "outputs": [],
   "source": [
    "# Dictionary\n",
    "myphonebook = Dict(\"Jenny\" => \"867-5309\", \"Ghostbusters\" => \"555-2368\")"
   ]
  },
  {
   "cell_type": "code",
   "execution_count": null,
   "metadata": {},
   "outputs": [],
   "source": [
    "myphonebook[\"Jenny\"]"
   ]
  },
  {
   "cell_type": "code",
   "execution_count": null,
   "metadata": {},
   "outputs": [],
   "source": [
    "myphonebook[\"Buzz Lightyear\"] = \"∞ and beyond\""
   ]
  },
  {
   "cell_type": "code",
   "execution_count": null,
   "metadata": {},
   "outputs": [],
   "source": [
    "myphonebook"
   ]
  },
  {
   "cell_type": "code",
   "execution_count": 27,
   "metadata": {},
   "outputs": [],
   "source": [
    "# key and value must be the same type as the original dicitionary"
   ]
  },
  {
   "cell_type": "code",
   "execution_count": null,
   "metadata": {},
   "outputs": [],
   "source": [
    "vec_vec_num = [[1, 2, 3], [4, 5], [6, 7, 8, 9]] "
   ]
  },
  {
   "cell_type": "code",
   "execution_count": null,
   "metadata": {},
   "outputs": [],
   "source": [
    "matrix = [1 2 3; # elements in same row separated by space\n",
    "          4 5 6; # semicolon means \"go to next row\"\n",
    "          7 8 9]"
   ]
  },
  {
   "cell_type": "code",
   "execution_count": null,
   "metadata": {},
   "outputs": [],
   "source": [
    "R = rand(4, 3)"
   ]
  },
  {
   "cell_type": "code",
   "execution_count": null,
   "metadata": {},
   "outputs": [],
   "source": [
    "matrix[1,2]"
   ]
  },
  {
   "cell_type": "code",
   "execution_count": null,
   "metadata": {},
   "outputs": [],
   "source": [
    "fibonacci = [1, 1, 2, 3, 5, 8, 13]"
   ]
  },
  {
   "cell_type": "code",
   "execution_count": null,
   "metadata": {},
   "outputs": [],
   "source": [
    "fibonacci[1] = 15"
   ]
  },
  {
   "cell_type": "code",
   "execution_count": null,
   "metadata": {},
   "outputs": [],
   "source": [
    "fibonacci"
   ]
  },
  {
   "cell_type": "code",
   "execution_count": null,
   "metadata": {},
   "outputs": [],
   "source": [
    "push!(fibonacci, 16)"
   ]
  },
  {
   "cell_type": "code",
   "execution_count": null,
   "metadata": {},
   "outputs": [],
   "source": [
    "pop!(fibonacci)"
   ]
  },
  {
   "cell_type": "code",
   "execution_count": null,
   "metadata": {},
   "outputs": [],
   "source": [
    "fibonacci"
   ]
  },
  {
   "cell_type": "code",
   "execution_count": null,
   "metadata": {},
   "outputs": [],
   "source": [
    "x = rand(3,3)"
   ]
  },
  {
   "cell_type": "code",
   "execution_count": null,
   "metadata": {},
   "outputs": [],
   "source": [
    "x[:, 1]"
   ]
  },
  {
   "cell_type": "code",
   "execution_count": null,
   "metadata": {},
   "outputs": [],
   "source": [
    "r = 0:0.01:5"
   ]
  },
  {
   "cell_type": "code",
   "execution_count": null,
   "metadata": {},
   "outputs": [],
   "source": [
    "r[end-3]"
   ]
  },
  {
   "cell_type": "code",
   "execution_count": null,
   "metadata": {},
   "outputs": [],
   "source": [
    "r[end]"
   ]
  },
  {
   "cell_type": "code",
   "execution_count": null,
   "metadata": {},
   "outputs": [],
   "source": [
    "letterrange = 'a':'z'"
   ]
  },
  {
   "cell_type": "code",
   "execution_count": null,
   "metadata": {},
   "outputs": [],
   "source": [
    "collect(letterrange)"
   ]
  },
  {
   "cell_type": "code",
   "execution_count": null,
   "metadata": {},
   "outputs": [],
   "source": [
    "for n in 1:5\n",
    "    println(n)\n",
    "end"
   ]
  },
  {
   "cell_type": "code",
   "execution_count": null,
   "metadata": {},
   "outputs": [],
   "source": [
    "for pair in myphonebook\n",
    "    println(pair)\n",
    "end"
   ]
  },
  {
   "cell_type": "code",
   "execution_count": null,
   "metadata": {},
   "outputs": [],
   "source": [
    "for (key,val) in myphonebook\n",
    "    println(\"The number of $(key) is $(val)\")\n",
    "end"
   ]
  },
  {
   "cell_type": "code",
   "execution_count": null,
   "metadata": {},
   "outputs": [],
   "source": [
    "for (index, value) in enumerate(rand(3))\n",
    "    println(\"value of index $index : $value\")\n",
    "end"
   ]
  },
  {
   "cell_type": "code",
   "execution_count": null,
   "metadata": {},
   "outputs": [],
   "source": [
    "for (key, val) in myphonebook println(\"The number of $key is $val\") end"
   ]
  },
  {
   "cell_type": "code",
   "execution_count": null,
   "metadata": {},
   "outputs": [],
   "source": [
    "n = 0\n",
    "while n < 5\n",
    "    n += 1\n",
    "    println(n)\n",
    "end"
   ]
  },
  {
   "cell_type": "code",
   "execution_count": null,
   "metadata": {},
   "outputs": [],
   "source": [
    "5 == 5.0 ? \"yes\" : \"no\""
   ]
  },
  {
   "cell_type": "code",
   "execution_count": null,
   "metadata": {},
   "outputs": [],
   "source": [
    "x, y = 5,6\n",
    "if x > y \n",
    "    x\n",
    "elseif x == y \n",
    "    y \n",
    "else \n",
    "    0\n",
    "end"
   ]
  },
  {
   "cell_type": "code",
   "execution_count": null,
   "metadata": {},
   "outputs": [],
   "source": [
    "x > y ? x : y"
   ]
  },
  {
   "cell_type": "code",
   "execution_count": null,
   "metadata": {},
   "outputs": [],
   "source": [
    "N = 1:100\n",
    "for n in N\n",
    "    isodd(n) && continue\n",
    "    println(n)\n",
    "    n > 10 && break\n",
    "end"
   ]
  },
  {
   "cell_type": "code",
   "execution_count": null,
   "metadata": {},
   "outputs": [],
   "source": [
    "[a^2 for a in 1:10 if iseven(a)]"
   ]
  },
  {
   "cell_type": "code",
   "execution_count": null,
   "metadata": {},
   "outputs": [],
   "source": [
    "function f(x)\n",
    "    return x^2 \n",
    "end"
   ]
  },
  {
   "cell_type": "code",
   "execution_count": null,
   "metadata": {},
   "outputs": [],
   "source": [
    "f(x) = x^2"
   ]
  },
  {
   "cell_type": "code",
   "execution_count": null,
   "metadata": {},
   "outputs": [],
   "source": [
    "f(5)"
   ]
  },
  {
   "cell_type": "code",
   "execution_count": null,
   "metadata": {},
   "outputs": [],
   "source": [
    "function g(x, y = 5; z = 2, w = 1) # this has positional arguments and keyword arguments \n",
    "    return x*z*y*w\n",
    "end"
   ]
  },
  {
   "cell_type": "code",
   "execution_count": null,
   "metadata": {},
   "outputs": [],
   "source": [
    "g(5, 2)"
   ]
  },
  {
   "cell_type": "code",
   "execution_count": null,
   "metadata": {},
   "outputs": [],
   "source": [
    "g(5,2,4)"
   ]
  },
  {
   "cell_type": "code",
   "execution_count": null,
   "metadata": {},
   "outputs": [],
   "source": [
    "g(5,2,z=4)"
   ]
  },
  {
   "cell_type": "code",
   "execution_count": null,
   "metadata": {},
   "outputs": [],
   "source": [
    "A = rand(3,3)"
   ]
  },
  {
   "cell_type": "code",
   "execution_count": null,
   "metadata": {},
   "outputs": [],
   "source": [
    "g(A)"
   ]
  },
  {
   "cell_type": "code",
   "execution_count": null,
   "metadata": {},
   "outputs": [],
   "source": [
    "g(A, A; z = A)"
   ]
  },
  {
   "cell_type": "code",
   "execution_count": null,
   "metadata": {},
   "outputs": [],
   "source": [
    "g(\"string\", \"string\")"
   ]
  },
  {
   "cell_type": "code",
   "execution_count": null,
   "metadata": {},
   "outputs": [],
   "source": [
    "g(\"string\", \"string\"; z = \"string\", w = \"string\")"
   ]
  },
  {
   "cell_type": "code",
   "execution_count": null,
   "metadata": {},
   "outputs": [],
   "source": [
    "function add3!(x)\n",
    "    x[1] += 3\n",
    "    return x\n",
    "end"
   ]
  },
  {
   "cell_type": "code",
   "execution_count": null,
   "metadata": {},
   "outputs": [],
   "source": [
    "x = [6,5,5]"
   ]
  },
  {
   "cell_type": "code",
   "execution_count": null,
   "metadata": {},
   "outputs": [],
   "source": [
    "add3!(x)"
   ]
  },
  {
   "cell_type": "code",
   "execution_count": null,
   "metadata": {},
   "outputs": [],
   "source": [
    "x"
   ]
  },
  {
   "cell_type": "code",
   "execution_count": null,
   "metadata": {},
   "outputs": [],
   "source": [
    "# !function mutates the arguments while none don't"
   ]
  },
  {
   "cell_type": "code",
   "execution_count": null,
   "metadata": {},
   "outputs": [],
   "source": [
    "v = [3,5,2]\n",
    "sort(v)"
   ]
  },
  {
   "cell_type": "code",
   "execution_count": null,
   "metadata": {},
   "outputs": [],
   "source": [
    "v"
   ]
  },
  {
   "cell_type": "code",
   "execution_count": null,
   "metadata": {},
   "outputs": [],
   "source": [
    "sort!(v)"
   ]
  },
  {
   "cell_type": "code",
   "execution_count": null,
   "metadata": {},
   "outputs": [],
   "source": [
    "v"
   ]
  },
  {
   "cell_type": "code",
   "execution_count": null,
   "metadata": {},
   "outputs": [],
   "source": [
    "?typeof"
   ]
  },
  {
   "cell_type": "code",
   "execution_count": null,
   "metadata": {},
   "outputs": [],
   "source": [
    "a = 5\n",
    "a//2"
   ]
  },
  {
   "cell_type": "code",
   "execution_count": null,
   "metadata": {},
   "outputs": [],
   "source": [
    "expression(x) = (x < 0.5) | (x > 1.5)"
   ]
  },
  {
   "cell_type": "code",
   "execution_count": null,
   "metadata": {},
   "outputs": [],
   "source": [
    "x = 0:0.1:2"
   ]
  },
  {
   "cell_type": "code",
   "execution_count": null,
   "metadata": {},
   "outputs": [],
   "source": [
    "valid_indices = findall(expression, x)"
   ]
  },
  {
   "cell_type": "code",
   "execution_count": null,
   "metadata": {},
   "outputs": [],
   "source": [
    "@doc typeof"
   ]
  },
  {
   "cell_type": "code",
   "execution_count": null,
   "metadata": {},
   "outputs": [],
   "source": [
    "b = 5//1"
   ]
  },
  {
   "cell_type": "code",
   "execution_count": null,
   "metadata": {},
   "outputs": [],
   "source": [
    "b"
   ]
  },
  {
   "cell_type": "code",
   "execution_count": null,
   "metadata": {},
   "outputs": [],
   "source": [
    "@doc //"
   ]
  },
  {
   "cell_type": "code",
   "execution_count": null,
   "metadata": {},
   "outputs": [],
   "source": [
    "1//3 + 1//5"
   ]
  },
  {
   "cell_type": "code",
   "execution_count": null,
   "metadata": {},
   "outputs": [],
   "source": [
    "h(x, y=1) = x+y"
   ]
  },
  {
   "cell_type": "code",
   "execution_count": null,
   "metadata": {},
   "outputs": [],
   "source": [
    "x = [1,2,3]"
   ]
  },
  {
   "cell_type": "code",
   "execution_count": null,
   "metadata": {},
   "outputs": [],
   "source": [
    "h(x)"
   ]
  },
  {
   "cell_type": "code",
   "execution_count": null,
   "metadata": {},
   "outputs": [],
   "source": [
    "h.(x)"
   ]
  },
  {
   "cell_type": "code",
   "execution_count": null,
   "metadata": {},
   "outputs": [],
   "source": [
    "exp_range = 10.0 .^ (-3:3)"
   ]
  },
  {
   "cell_type": "code",
   "execution_count": 19,
   "metadata": {},
   "outputs": [],
   "source": [
    "using BenchmarkTools"
   ]
  },
  {
   "cell_type": "code",
   "execution_count": null,
   "metadata": {},
   "outputs": [],
   "source": [
    "function unstable()\n",
    "    x = 1\n",
    "    for i = 1:10\n",
    "        x /= rand()\n",
    "    end\n",
    "    return x \n",
    "end \n",
    "\n",
    "function stable()\n",
    "    x = 1.0\n",
    "    for i = 1:10\n",
    "        x /= rand()\n",
    "    end\n",
    "    return x \n",
    "end "
   ]
  },
  {
   "cell_type": "code",
   "execution_count": null,
   "metadata": {},
   "outputs": [],
   "source": [
    "@btime unstable()"
   ]
  },
  {
   "cell_type": "code",
   "execution_count": null,
   "metadata": {},
   "outputs": [],
   "source": [
    "@btime unstable()\n",
    "@btime stable()"
   ]
  },
  {
   "cell_type": "code",
   "execution_count": null,
   "metadata": {},
   "outputs": [],
   "source": [
    "@doc @noinline"
   ]
  },
  {
   "cell_type": "code",
   "execution_count": null,
   "metadata": {},
   "outputs": [],
   "source": [
    "@noinline function mymax(init, x)\n",
    "    s = init \n",
    "    for xi in x \n",
    "        s = s < xi ? xi : s \n",
    "    end\n",
    "    return s \n",
    "end "
   ]
  },
  {
   "cell_type": "code",
   "execution_count": null,
   "metadata": {},
   "outputs": [],
   "source": [
    "r = rand(Int, 1000) \n",
    "@btime mymax(-Inf32, $r)"
   ]
  },
  {
   "cell_type": "code",
   "execution_count": null,
   "metadata": {},
   "outputs": [],
   "source": [
    "r"
   ]
  },
  {
   "cell_type": "code",
   "execution_count": null,
   "metadata": {},
   "outputs": [],
   "source": [
    "@doc Inf32"
   ]
  },
  {
   "cell_type": "code",
   "execution_count": null,
   "metadata": {},
   "outputs": [],
   "source": [
    "@code_warntype mymax(-Inf, r)"
   ]
  },
  {
   "cell_type": "code",
   "execution_count": null,
   "metadata": {},
   "outputs": [],
   "source": [
    "x, y = rand(1000), rand(1000)\n",
    "a = 0.0\n",
    "@btime for i in 1:length(x)\n",
    "    global a += x[i]^2 + y[i]^2\n",
    "end"
   ]
  },
  {
   "cell_type": "code",
   "execution_count": null,
   "metadata": {},
   "outputs": [],
   "source": [
    "function localf(x,y)\n",
    "    a = zero(eltype(x))\n",
    "    for i in 1:length(x)\n",
    "        a += x[i]^2 + y[i]^2\n",
    "    end\n",
    "    return a \n",
    "end \n",
    "\n",
    "@btime localf(x,y)"
   ]
  },
  {
   "cell_type": "code",
   "execution_count": null,
   "metadata": {},
   "outputs": [],
   "source": [
    "@doc zero"
   ]
  },
  {
   "cell_type": "code",
   "execution_count": null,
   "metadata": {},
   "outputs": [],
   "source": [
    "@doc eltype"
   ]
  },
  {
   "cell_type": "code",
   "execution_count": null,
   "metadata": {},
   "outputs": [],
   "source": [
    "eltype(x)"
   ]
  },
  {
   "cell_type": "code",
   "execution_count": null,
   "metadata": {},
   "outputs": [],
   "source": [
    "# put all performance critical parts of your code inside a function to avoid global scope\n",
    "# ensure that your functions are type-stable "
   ]
  },
  {
   "cell_type": "code",
   "execution_count": null,
   "metadata": {},
   "outputs": [],
   "source": [
    "x = rand(2,2)\n",
    "# allocation costs time and memory\n",
    "# in general you should try to avoid allocations"
   ]
  },
  {
   "cell_type": "code",
   "execution_count": 42,
   "metadata": {},
   "outputs": [],
   "source": [
    "using LinearAlgebra"
   ]
  },
  {
   "cell_type": "code",
   "execution_count": null,
   "metadata": {},
   "outputs": [],
   "source": [
    "function add_funs(x, F)\n",
    "    F[1](x) + F[2](x)\n",
    "end\n",
    "\n",
    "F1 = [sin, cos]\n",
    "F2 = (sin, cos)\n",
    "\n",
    "# immutable is better\n",
    "\n",
    "@btime add_funs(1.0, $F1)\n",
    "@btime add_funs(1.0, $F2)"
   ]
  },
  {
   "cell_type": "code",
   "execution_count": null,
   "metadata": {},
   "outputs": [],
   "source": [
    "@code_warntype add_funs(1.0, F1)"
   ]
  },
  {
   "cell_type": "code",
   "execution_count": null,
   "metadata": {},
   "outputs": [],
   "source": [
    "# use this which does no allocation\n",
    "function randmul!(C,A,B)\n",
    "    fill!(A, rand()); fill!(B, rand())\n",
    "    mul!(C,A,B)\n",
    "    return sum(C) \n",
    "end"
   ]
  },
  {
   "cell_type": "code",
   "execution_count": null,
   "metadata": {},
   "outputs": [],
   "source": [
    "# try to create as little new large mutable entities in your function as possible to avoid memory allocations\n",
    "# pre-allocate the large and central containers of your function"
   ]
  },
  {
   "cell_type": "markdown",
   "metadata": {},
   "source": [
    "## Exercises"
   ]
  },
  {
   "cell_type": "markdown",
   "metadata": {},
   "source": [
    "Babylonian square root"
   ]
  },
  {
   "cell_type": "code",
   "execution_count": 4,
   "metadata": {},
   "outputs": [],
   "source": [
    "using BenchmarkTools"
   ]
  },
  {
   "cell_type": "code",
   "execution_count": null,
   "metadata": {},
   "outputs": [],
   "source": [
    "function babylonian(y, ϵ, x0 = 1)\n",
    "    diff = 10\n",
    "    while diff > ϵ\n",
    "        x1 = 1/2*(x0+y/x0)\n",
    "        diff = x1 - x0\n",
    "        x0 = x1\n",
    "    end\n",
    "    return x0\n",
    "end\n",
    "\n",
    "@btime babylonian(2, 1e-6)"
   ]
  },
  {
   "cell_type": "code",
   "execution_count": null,
   "metadata": {},
   "outputs": [],
   "source": [
    "function babylonian(y, ϵ, x0 = y/2)\n",
    "    diff = 10.0\n",
    "    while diff > ϵ\n",
    "        x1 = 0.5*(x0+y/x0)\n",
    "        diff = abs(x1-x0)\n",
    "        x0 = x1\n",
    "    end\n",
    "    return x0\n",
    "end\n",
    "\n",
    "@btime babylonian(2, 1e-6)"
   ]
  },
  {
   "cell_type": "markdown",
   "metadata": {},
   "source": [
    "Counting nucleotides"
   ]
  },
  {
   "cell_type": "code",
   "execution_count": null,
   "metadata": {},
   "outputs": [],
   "source": [
    "function count_nucleotides(dnastrand::String)\n",
    "    a,g,t,c = 0,0,0,0\n",
    "    for value in dnastrand\n",
    "        if value == 'A'\n",
    "            a += 1\n",
    "        elseif value == 'G' \n",
    "            g += 1\n",
    "        elseif value == 'T' \n",
    "            t += 1\n",
    "        elseif value == 'C'\n",
    "            c += 1 \n",
    "        else\n",
    "             return error\n",
    "        end\n",
    "    end\n",
    "    return Dict(\"A\" => a, \"G\" => g, \"T\" => t, \"C\" => c)\n",
    "end\n",
    "\n",
    "@btime count_nucleotides(\"ATATATAGGCCAX\")\n",
    "@btime count_nucleotides(\"ATATATAGGCCAA\")"
   ]
  },
  {
   "cell_type": "code",
   "execution_count": null,
   "metadata": {},
   "outputs": [],
   "source": [
    "function count_nucleotides(dnastrand::String)\n",
    "    counts = Dict('A' => 0, 'G' => 0, 'T' => 0, 'C' => 0)\n",
    "    for value in dnastrand\n",
    "        if haskey(counts, value)\n",
    "            counts[value] += 1\n",
    "        else\n",
    "             return error\n",
    "        end\n",
    "    end\n",
    "    return counts\n",
    "end\n",
    "\n",
    "@btime count_nucleotides(\"ATATATAGGCCAX\")\n",
    "@btime count_nucleotides(\"ATATATAGGCCAA\")"
   ]
  },
  {
   "cell_type": "markdown",
   "metadata": {},
   "source": [
    "Fibonacci numbers"
   ]
  },
  {
   "cell_type": "code",
   "execution_count": null,
   "metadata": {},
   "outputs": [],
   "source": [
    "function fibonacci(n)\n",
    "    if n == 1 || n == 2\n",
    "        return 1\n",
    "    end\n",
    "    return fibonacci(n-1) + fibonacci(n-2)\n",
    "end\n",
    "\n",
    "fibonacci(3)\n",
    "@btime map(x -> fibonacci(x), 1:8)"
   ]
  },
  {
   "cell_type": "code",
   "execution_count": null,
   "metadata": {},
   "outputs": [],
   "source": [
    "function fib_memo(n)\n",
    "    known = zeros(Int64, n)\n",
    "    function memoize(k)\n",
    "      if known[k] != 0\n",
    "        # do nothing\n",
    "      elseif k == 1 || k == 2\n",
    "        known[k] = 1\n",
    "      else\n",
    "        known[k] = memoize(k-1) + memoize(k-2)\n",
    "      end\n",
    "      return known[k]\n",
    "    end\n",
    "    return memoize(n)\n",
    "  end\n",
    "\n",
    "@btime map(x -> fib_memo(x), 1:8)\n"
   ]
  },
  {
   "cell_type": "markdown",
   "metadata": {},
   "source": [
    "Hamming distance"
   ]
  },
  {
   "cell_type": "code",
   "execution_count": null,
   "metadata": {},
   "outputs": [],
   "source": [
    "f(s1::String, s2::String) = zip(s1, s2)"
   ]
  },
  {
   "cell_type": "code",
   "execution_count": null,
   "metadata": {},
   "outputs": [],
   "source": [
    "f(\"ATA\", \"ATC\")"
   ]
  },
  {
   "cell_type": "code",
   "execution_count": null,
   "metadata": {},
   "outputs": [],
   "source": [
    "function hamming_dist(s1::String, s2::String)\n",
    "    dist = 0\n",
    "    for (val1, val2) in zip(s1, s2) \n",
    "        dist += (val1 != val2)\n",
    "    end \n",
    "    return dist\n",
    "end"
   ]
  },
  {
   "cell_type": "code",
   "execution_count": null,
   "metadata": {},
   "outputs": [],
   "source": [
    "hamming_dist(\"ATA\", \"ATC\")\n",
    "hamming_dist(\"ATC\", \"CAT\")"
   ]
  },
  {
   "cell_type": "code",
   "execution_count": null,
   "metadata": {},
   "outputs": [],
   "source": [
    "f2(s1::String, s2::String) = count([v1 == v2 for (v1, v2) in zip(s1, s2)])"
   ]
  },
  {
   "cell_type": "code",
   "execution_count": null,
   "metadata": {},
   "outputs": [],
   "source": [
    "f2(\"ATA\", \"ATC\")"
   ]
  },
  {
   "cell_type": "code",
   "execution_count": null,
   "metadata": {},
   "outputs": [],
   "source": [
    "s1 = \"ATA\"\n",
    "s2 = \"ATC\"\n",
    "count([v1 == v2 for (v1, v2) in zip(s1, s2)])"
   ]
  },
  {
   "cell_type": "code",
   "execution_count": null,
   "metadata": {},
   "outputs": [],
   "source": [
    "@doc count"
   ]
  },
  {
   "cell_type": "code",
   "execution_count": null,
   "metadata": {},
   "outputs": [],
   "source": [
    "(\"A\" == \"A\") + 0"
   ]
  },
  {
   "cell_type": "markdown",
   "metadata": {},
   "source": [
    "## Exercise Part 2"
   ]
  },
  {
   "cell_type": "code",
   "execution_count": null,
   "metadata": {},
   "outputs": [],
   "source": [
    "function collatz(n::Int)\n",
    "    count = 0\n",
    "    num = n\n",
    "    while num ≠ 1\n",
    "        if isodd(num)\n",
    "            num = 3num + 1\n",
    "        else \n",
    "            num = num ÷ 2\n",
    "        end\n",
    "        count += 1\n",
    "    end\n",
    "    return count\n",
    "end\n",
    "\n",
    "@code_warntype collatz(100)"
   ]
  },
  {
   "cell_type": "code",
   "execution_count": null,
   "metadata": {},
   "outputs": [],
   "source": [
    "@btime collatz(100)"
   ]
  },
  {
   "cell_type": "code",
   "execution_count": null,
   "metadata": {},
   "outputs": [],
   "source": [
    "@doc isodd"
   ]
  },
  {
   "cell_type": "markdown",
   "metadata": {},
   "source": [
    "Henon map"
   ]
  },
  {
   "cell_type": "code",
   "execution_count": null,
   "metadata": {},
   "outputs": [],
   "source": [
    "function henon(u0, N::Int)\n",
    "    states = [u0]\n",
    "    u = u0\n",
    "    for i in 1:N \n",
    "        u = (1-1.4u[1]^2+u[2], 0.3u[1]) \n",
    "        push!(states, u)\n",
    "    end\n",
    "    return states \n",
    "end\n",
    "\n",
    "u0 = (0.0, 0.0)\n",
    "henon(u0, 10)"
   ]
  },
  {
   "cell_type": "code",
   "execution_count": null,
   "metadata": {},
   "outputs": [],
   "source": [
    "@btime henon($u0, 10)"
   ]
  },
  {
   "cell_type": "code",
   "execution_count": null,
   "metadata": {},
   "outputs": [],
   "source": [
    "lines(henon(u0,100000))"
   ]
  },
  {
   "cell_type": "markdown",
   "metadata": {},
   "source": [
    "## Basic Plotting with Makie"
   ]
  },
  {
   "cell_type": "code",
   "execution_count": 46,
   "metadata": {},
   "outputs": [],
   "source": [
    "using CairoMakie"
   ]
  },
  {
   "cell_type": "code",
   "execution_count": null,
   "metadata": {},
   "outputs": [],
   "source": [
    "lines"
   ]
  },
  {
   "cell_type": "code",
   "execution_count": 48,
   "metadata": {},
   "outputs": [],
   "source": [
    "update_theme!(size = (500,300), fontsize = 16)"
   ]
  },
  {
   "cell_type": "code",
   "execution_count": null,
   "metadata": {},
   "outputs": [],
   "source": [
    "x = 1:5\n",
    "y = [1,3,2,4,5]\n",
    "fig, ax, plot_object = lines(x,y)"
   ]
  },
  {
   "cell_type": "code",
   "execution_count": null,
   "metadata": {},
   "outputs": [],
   "source": [
    "z = reverse(y)\n",
    "scatter(x, z; color = \"tomato\")"
   ]
  },
  {
   "cell_type": "code",
   "execution_count": null,
   "metadata": {},
   "outputs": [],
   "source": [
    "fig, ax, plot_object = lines(x,y)\n",
    "scatter!(ax, x, z; color=\"tomato\")"
   ]
  },
  {
   "cell_type": "code",
   "execution_count": null,
   "metadata": {},
   "outputs": [],
   "source": [
    "fig"
   ]
  },
  {
   "cell_type": "code",
   "execution_count": null,
   "metadata": {},
   "outputs": [],
   "source": [
    "scatter(x, z;\n",
    "    markersize = 10y, color = y, colormap = \"thermal\",\n",
    "    marker = ['a', '♠', '⊚', :rect, :circle]\n",
    ")"
   ]
  },
  {
   "cell_type": "code",
   "execution_count": null,
   "metadata": {},
   "outputs": [],
   "source": [
    "fig = Figure()\n",
    "ax1 = Axis(fig[1,1])\n",
    "fig"
   ]
  },
  {
   "cell_type": "code",
   "execution_count": null,
   "metadata": {},
   "outputs": [],
   "source": [
    "ax2 = Axis(fig[1,2])\n",
    "fig"
   ]
  },
  {
   "cell_type": "code",
   "execution_count": null,
   "metadata": {},
   "outputs": [],
   "source": [
    "ax4 = fig[1,4] = Axis(fig;\n",
    "    # This is the way to adjust axis properties during creation:\n",
    "    title = \"wow!\",\n",
    "    xlabel = \"much axis\",\n",
    "    ylabel = \"why left empty?\"\n",
    ")\n",
    "fig"
   ]
  },
  {
   "cell_type": "code",
   "execution_count": null,
   "metadata": {},
   "outputs": [],
   "source": [
    "ax1.xticks = ([1,2,9], [\"1\", \"4\", \"8\"]) # ticks and their labels\n",
    "ax1.xlabel = \"bamboozled!\"\n",
    "fig"
   ]
  },
  {
   "cell_type": "code",
   "execution_count": null,
   "metadata": {},
   "outputs": [],
   "source": [
    "x = range(0, 4π; length = 100)\n",
    "y = sin.(x)\n",
    "\n",
    "fig = Figure(size = (600,400))"
   ]
  },
  {
   "cell_type": "code",
   "execution_count": null,
   "metadata": {},
   "outputs": [],
   "source": [
    "# can also do some interactive visualizations\n",
    "# can also create some animations"
   ]
  },
  {
   "cell_type": "markdown",
   "metadata": {},
   "source": [
    "### Plotting Exercises"
   ]
  },
  {
   "cell_type": "code",
   "execution_count": null,
   "metadata": {},
   "outputs": [],
   "source": [
    "x = range(0, 1; length=20)\n",
    "y = sin.(x)\n",
    "lines(x, y; label = \"sin\")\n",
    "lines!(x, x; label = \"1\")\n",
    "lines!(x, x-x.^3/6; label = \"2\")\n",
    "lines!(x, x-x.^3/6+x.^5/120; label = \"3\")\n",
    "axislegend()\n",
    "current_figure()"
   ]
  },
  {
   "cell_type": "code",
   "execution_count": null,
   "metadata": {},
   "outputs": [],
   "source": [
    "using Random: Xoshiro\n",
    "rng = Xoshiro(1234)\n",
    "xp1 = 0.2randn(rng, 10_000) .+ 0.5\n",
    "p2 = 0.5randn(rng, 10_000)\n",
    "edges = -2:0.1:2"
   ]
  },
  {
   "cell_type": "code",
   "execution_count": null,
   "metadata": {},
   "outputs": [],
   "source": [
    "hist(xp1; color=(\"grey\", 0.75), label=\"p1\", bins = edges)\n",
    "hist!(p2; color=(\"red\", 0.75), label=\"p2\", bins=edges)\n",
    "axislegend()\n",
    "current_figure()"
   ]
  },
  {
   "cell_type": "code",
   "execution_count": null,
   "metadata": {},
   "outputs": [],
   "source": [
    "fig = Figure(size = (500,500))\n",
    "Box(fig[1, 1:2]; color=:violet, strokewidth=0)\n",
    "Box(fig[1:2, 3]; color=:blue, strokewidth=0)\n",
    "Box(fig[2, 2]; color=:purple, strokewidth=0)\n",
    "Box(fig[2:3, 1]; color=:yellow, strokewidth=0)\n",
    "Box(fig[3, 2:3]; color=:teal, strokewidth=0)\n",
    "n = 4 \n",
    "t = 0:0.01:2n*π\n",
    "x = (2n*π .- t) .* cos.(t)\n",
    "y = (2n*π .- t) .* sin.(t)\n",
    "lines!(fig[1:3,1:3], x, y)\n",
    "hidedecorations!()\n",
    "hidespines!()\n",
    "fig"
   ]
  },
  {
   "cell_type": "markdown",
   "metadata": {},
   "source": [
    "# Part 2"
   ]
  },
  {
   "cell_type": "code",
   "execution_count": null,
   "metadata": {},
   "outputs": [],
   "source": [
    "subtypes(Float64)"
   ]
  },
  {
   "cell_type": "code",
   "execution_count": null,
   "metadata": {},
   "outputs": [],
   "source": [
    "supertype(Float64)"
   ]
  },
  {
   "cell_type": "code",
   "execution_count": null,
   "metadata": {},
   "outputs": [],
   "source": [
    "supertype(AbstractFloat)"
   ]
  },
  {
   "cell_type": "code",
   "execution_count": null,
   "metadata": {},
   "outputs": [],
   "source": [
    "supertype(Real)"
   ]
  },
  {
   "cell_type": "code",
   "execution_count": null,
   "metadata": {},
   "outputs": [],
   "source": [
    "supertype(Number)"
   ]
  },
  {
   "cell_type": "code",
   "execution_count": null,
   "metadata": {},
   "outputs": [],
   "source": [
    "Float64 <: Number"
   ]
  },
  {
   "cell_type": "code",
   "execution_count": null,
   "metadata": {},
   "outputs": [],
   "source": [
    "using AbstractTrees; AbstractTrees.children(x::Type) = subtypes(x)"
   ]
  },
  {
   "cell_type": "code",
   "execution_count": null,
   "metadata": {},
   "outputs": [],
   "source": [
    "print_tree(Number)"
   ]
  },
  {
   "cell_type": "markdown",
   "metadata": {},
   "source": [
    "custom types are like classes but not really"
   ]
  },
  {
   "cell_type": "code",
   "execution_count": 54,
   "metadata": {},
   "outputs": [],
   "source": [
    "struct A # custom types and immutable\n",
    "    x # fields\n",
    "    y \n",
    "end \n",
    "\n",
    "mutable struct B \n",
    "    x \n",
    "    y \n",
    "end\n",
    "\n",
    "# the supertype of A and B is Any\n",
    "# not suggested to have x, y to be Any"
   ]
  },
  {
   "cell_type": "code",
   "execution_count": null,
   "metadata": {},
   "outputs": [],
   "source": [
    "a = A(1,2)"
   ]
  },
  {
   "cell_type": "code",
   "execution_count": null,
   "metadata": {},
   "outputs": [],
   "source": [
    "b = B(2,3)"
   ]
  },
  {
   "cell_type": "code",
   "execution_count": null,
   "metadata": {},
   "outputs": [],
   "source": [
    "(a.x, b.x)"
   ]
  },
  {
   "cell_type": "code",
   "execution_count": null,
   "metadata": {},
   "outputs": [],
   "source": [
    "b.x = 5\n",
    "a.x = 5"
   ]
  },
  {
   "cell_type": "code",
   "execution_count": 60,
   "metadata": {},
   "outputs": [],
   "source": [
    "struct Agood # concretely typed, every field of A is a concrete type\n",
    "    x::Float64 # Real is not a concrete type, it is abstract\n",
    "    y::Float64 \n",
    "    z::String\n",
    "end"
   ]
  },
  {
   "cell_type": "code",
   "execution_count": null,
   "metadata": {},
   "outputs": [],
   "source": [
    "julia = Agood(1,1, \"best language evah\")"
   ]
  },
  {
   "cell_type": "code",
   "execution_count": 62,
   "metadata": {},
   "outputs": [],
   "source": [
    "abstract type C end"
   ]
  },
  {
   "cell_type": "code",
   "execution_count": null,
   "metadata": {},
   "outputs": [],
   "source": [
    "C(4)"
   ]
  },
  {
   "cell_type": "code",
   "execution_count": 64,
   "metadata": {},
   "outputs": [],
   "source": [
    "struct D <: C # '<: is subtyping operator'\n",
    "    d::Number \n",
    "end\n",
    "\n",
    "# this is also type unstable"
   ]
  },
  {
   "cell_type": "code",
   "execution_count": null,
   "metadata": {},
   "outputs": [],
   "source": [
    "subtypes(C)"
   ]
  },
  {
   "cell_type": "code",
   "execution_count": 67,
   "metadata": {},
   "outputs": [],
   "source": [
    "struct Alpha{T} # parametric types\n",
    "    a::T # a, and b will be the same type as T\n",
    "    b::T \n",
    "end"
   ]
  },
  {
   "cell_type": "code",
   "execution_count": null,
   "metadata": {},
   "outputs": [],
   "source": [
    "Alpha{Float64}(1, π)"
   ]
  },
  {
   "cell_type": "code",
   "execution_count": null,
   "metadata": {},
   "outputs": [],
   "source": [
    "Alpha{Int64}(5,6)"
   ]
  },
  {
   "cell_type": "code",
   "execution_count": null,
   "metadata": {},
   "outputs": [],
   "source": [
    "Alpha(\"test\", 0.5)"
   ]
  },
  {
   "cell_type": "code",
   "execution_count": 73,
   "metadata": {},
   "outputs": [],
   "source": [
    "# for performance, you want it to be a concrete type but you can do otherwise if you want"
   ]
  },
  {
   "cell_type": "code",
   "execution_count": 74,
   "metadata": {},
   "outputs": [],
   "source": [
    "struct TwoPars{T,F}\n",
    "    a::T \n",
    "    b::F \n",
    "end"
   ]
  },
  {
   "cell_type": "code",
   "execution_count": null,
   "metadata": {},
   "outputs": [],
   "source": [
    "TwoPars(\"string\", 0.5)"
   ]
  },
  {
   "cell_type": "code",
   "execution_count": 76,
   "metadata": {},
   "outputs": [],
   "source": [
    "struct ManyPars{T <: Real, F <: Union{String, Real}} # subtype of these parametric types\n",
    "    a::T\n",
    "    b::F\n",
    "    c::Int # concrete\n",
    "end"
   ]
  },
  {
   "cell_type": "code",
   "execution_count": null,
   "metadata": {},
   "outputs": [],
   "source": [
    "fieldnames(Alpha)"
   ]
  },
  {
   "cell_type": "code",
   "execution_count": null,
   "metadata": {},
   "outputs": [],
   "source": [
    "a = Alpha()"
   ]
  },
  {
   "cell_type": "code",
   "execution_count": null,
   "metadata": {},
   "outputs": [],
   "source": [
    "# function is the name of the function \n",
    "# method is what happens when the function is called \n",
    "# Dispath means that when a function call occurs, the language decides which of the methods to be used \n",
    "# C has no dispatch"
   ]
  },
  {
   "cell_type": "code",
   "execution_count": null,
   "metadata": {},
   "outputs": [],
   "source": [
    "# methods do not belong to the Types \n",
    "# new methods can be defined after the Types have been defined"
   ]
  },
  {
   "cell_type": "code",
   "execution_count": 1,
   "metadata": {},
   "outputs": [],
   "source": [
    "abstract type Animal end # this is an abstract type. a supertype of the below\n",
    "\n",
    "struct Dog <: Animal   # this is a concrete type. a subtype of the above\n",
    "    name::String\n",
    "end\n",
    "\n",
    "struct Cat <: Animal\n",
    "    name::String\n",
    "end"
   ]
  },
  {
   "cell_type": "code",
   "execution_count": null,
   "metadata": {},
   "outputs": [],
   "source": [
    "fido = Dog(\"Fido\") \n",
    "rex = Dog(\"Rex\")  \n",
    "whiskers = Cat(\"Whiskers\") \n",
    "spotty = Cat(\"Spotty\") "
   ]
  },
  {
   "cell_type": "code",
   "execution_count": null,
   "metadata": {},
   "outputs": [],
   "source": [
    "function encounter(a::Animal, b::Animal) \n",
    "    verb = meets(a,b)\n",
    "    println(\"$(a.name) meets $(b.name) and $verb\") \n",
    "end"
   ]
  },
  {
   "cell_type": "code",
   "execution_count": null,
   "metadata": {},
   "outputs": [],
   "source": [
    "subtypes(Animal)"
   ]
  },
  {
   "cell_type": "code",
   "execution_count": null,
   "metadata": {},
   "outputs": [],
   "source": [
    "meets(a::Animal, b::Animal) = \"passes by\"\n",
    "meets(a::Dog, b::Dog) = \"sniffs\"\n",
    "meets(a::Dog, b::Cat) = \"chases\"\n",
    "meets(a::Cat, b::Dog) = \"hisses\"\n",
    "meets(a::Cat, b::Cat) = \"slinks\""
   ]
  },
  {
   "cell_type": "code",
   "execution_count": null,
   "metadata": {},
   "outputs": [],
   "source": [
    "encounter(fido, rex)\n",
    "encounter(fido, whiskers)\n",
    "encounter(whiskers, spotty)\n",
    "encounter(spotty, rex)"
   ]
  },
  {
   "cell_type": "code",
   "execution_count": null,
   "metadata": {},
   "outputs": [],
   "source": [
    "struct Rabbit <: Animal\n",
    "    name::String\n",
    "end\n",
    "\n",
    "meets(a::Dog, b::Rabbit) = \"wiggles its tail\"\n",
    "meets(a::Rabbit, b::Cat) = \"hides\"\n",
    "\n",
    "hops = Rabbit(\"Hops\")"
   ]
  },
  {
   "cell_type": "code",
   "execution_count": null,
   "metadata": {},
   "outputs": [],
   "source": [
    "encounter(whiskers, hops)"
   ]
  },
  {
   "cell_type": "code",
   "execution_count": null,
   "metadata": {},
   "outputs": [],
   "source": [
    "methods(meets)"
   ]
  },
  {
   "cell_type": "code",
   "execution_count": null,
   "metadata": {},
   "outputs": [],
   "source": [
    "@which meets(whiskers, rex)"
   ]
  },
  {
   "cell_type": "code",
   "execution_count": null,
   "metadata": {},
   "outputs": [],
   "source": [
    "+"
   ]
  },
  {
   "cell_type": "code",
   "execution_count": 15,
   "metadata": {},
   "outputs": [],
   "source": [
    "methods(+);"
   ]
  },
  {
   "cell_type": "code",
   "execution_count": 20,
   "metadata": {},
   "outputs": [],
   "source": [
    "Base.:+(a::Animal, b::Animal) = println(\"$(b.name) are animals\")\n",
    "Base.:+(a::Cat, b::Cat) = println(\"$(b.name) cutie-cats, much cuter than doggos!\")"
   ]
  },
  {
   "cell_type": "code",
   "execution_count": null,
   "metadata": {},
   "outputs": [],
   "source": [
    "rex + whiskers"
   ]
  },
  {
   "cell_type": "code",
   "execution_count": 22,
   "metadata": {},
   "outputs": [],
   "source": [
    "struct Alpha{T} \n",
    "    a::T \n",
    "    b::T \n",
    "end"
   ]
  },
  {
   "cell_type": "code",
   "execution_count": null,
   "metadata": {},
   "outputs": [],
   "source": [
    "foo(a::Alpha) = \"generic function\"\n",
    "foo(a::Alpha{<:Number}) = \"specific to A with any number\"\n",
    "foo(a::Alpha{Float64}) = \"specific to A with 64-bit floats\""
   ]
  },
  {
   "cell_type": "code",
   "execution_count": null,
   "metadata": {},
   "outputs": [],
   "source": [
    "using LinearAlgebra: dot\n",
    "\n",
    "function inner_sum(A, vs)\n",
    "    t = zero(eltype(A))\n",
    "    for v in vs\n",
    "        t += inner(v, A, v)\n",
    "    end\n",
    "    return t\n",
    "end\n",
    "\n",
    "inner(v, A, w) = dot(v, A*w)\n",
    "     "
   ]
  },
  {
   "cell_type": "code",
   "execution_count": null,
   "metadata": {},
   "outputs": [],
   "source": [
    "a = rand(3,3)\n",
    "vs = [rand(3) for i in 1:5]\n",
    "inner_sum(a, vs)"
   ]
  },
  {
   "cell_type": "code",
   "execution_count": 26,
   "metadata": {},
   "outputs": [],
   "source": [
    "struct OneHotVector <: AbstractVector{Bool}\n",
    "    len::Int\n",
    "    ind::Int\n",
    "end"
   ]
  },
  {
   "cell_type": "code",
   "execution_count": 28,
   "metadata": {},
   "outputs": [],
   "source": [
    "Base.size(v::OneHotVector) = (v.len, )\n",
    "\n",
    "# Extend indexing (so that accessing a OneHotVector like v[5] works)\n",
    "Base.getindex(v::OneHotVector, i::Integer) = i == v.ind"
   ]
  },
  {
   "cell_type": "code",
   "execution_count": null,
   "metadata": {},
   "outputs": [],
   "source": [
    "oh = OneHotVector(10,3)"
   ]
  },
  {
   "cell_type": "code",
   "execution_count": null,
   "metadata": {},
   "outputs": [],
   "source": [
    "vs = [OneHotVector(3, rand(1:3)) for _ in 1:5]\n",
    "\n",
    "inner_sum(a, vs)"
   ]
  },
  {
   "cell_type": "code",
   "execution_count": 31,
   "metadata": {},
   "outputs": [],
   "source": [
    "struct RGB\n",
    "    r::Float64\n",
    "    g::Float64\n",
    "    b::Float64\n",
    "  end"
   ]
  },
  {
   "cell_type": "code",
   "execution_count": null,
   "metadata": {},
   "outputs": [],
   "source": [
    "module ExtensionsToRGB # creates a new module (new \"package\")\n",
    "# using RGB\n",
    "\n",
    "Base.zero(::RGB) = RGB(0,0,0) # value of input doesnt matter\n",
    "Base.inv(c::RGB) = RGB(1 - c.r, 1 - c.g, 1 - c.b)\n",
    "\n",
    "end"
   ]
  },
  {
   "cell_type": "code",
   "execution_count": 1,
   "metadata": {},
   "outputs": [
    {
     "data": {
      "text/plain": [
       "f (generic function with 1 method)"
      ]
     },
     "metadata": {},
     "output_type": "display_data"
    }
   ],
   "source": [
    "f(x, y) = sin(x*y)^2"
   ]
  },
  {
   "cell_type": "code",
   "execution_count": 2,
   "metadata": {},
   "outputs": [
    {
     "data": {
      "text/plain": [
       "1.4997597826618576e-32"
      ]
     },
     "metadata": {},
     "output_type": "display_data"
    }
   ],
   "source": [
    "f(1.0, π)"
   ]
  },
  {
   "cell_type": "markdown",
   "metadata": {},
   "source": [
    "## Exercises Part 2"
   ]
  },
  {
   "cell_type": "code",
   "execution_count": null,
   "metadata": {},
   "outputs": [],
   "source": [
    "abstract type person end\n",
    "\n",
    "struct student <: person \n",
    "    name::String\n",
    "    grade::Int64 \n",
    "end\n",
    "\n",
    "struct leader <: person \n",
    "    name::String\n",
    "    group_name::String \n",
    "end\n",
    "\n",
    "function person_info(p::person)\n",
    "    println(info(p))\n",
    "end\n",
    "\n",
    "info(p::student) = \"Hi I am $(p.name) from grade $(p.grade)\"\n",
    "info(p::leader) = \"Hi I am $(p.name) from group $(p.group_name)\"\n",
    "\n",
    "bob = student(\"Bob\", 5)\n",
    "alex = leader(\"Alex\", \"Winners\")"
   ]
  },
  {
   "cell_type": "code",
   "execution_count": null,
   "metadata": {},
   "outputs": [],
   "source": [
    "person_info(bob)"
   ]
  },
  {
   "cell_type": "code",
   "execution_count": null,
   "metadata": {},
   "outputs": [],
   "source": [
    "person_info(alex)"
   ]
  },
  {
   "cell_type": "code",
   "execution_count": 149,
   "metadata": {},
   "outputs": [],
   "source": [
    "struct Range_jj <: AbstractVector{Float64}\n",
    "    start::Float64\n",
    "    step::Float64\n",
    "    stop::Float64\n",
    "end"
   ]
  },
  {
   "cell_type": "code",
   "execution_count": 153,
   "metadata": {},
   "outputs": [],
   "source": [
    "Base.size(r::Range_jj) = (floor((r.stop-r.start)\\r.step), )\n",
    "Base.getindex(r::Range_jj, i::Int) = r.start + (i-1)*r.step"
   ]
  },
  {
   "cell_type": "code",
   "execution_count": 1,
   "metadata": {},
   "outputs": [
    {
     "ename": "ErrorException",
     "evalue": "Index out of bounds!",
     "output_type": "error",
     "traceback": [
      "Index out of bounds!\n",
      "\n",
      "Stacktrace:\n",
      " [1] error(s::String)\n",
      "   @ Base .\\error.jl:35\n",
      " [2] getindex(r::Range{Float64}, i::Int64)\n",
      "   @ Main c:\\Users\\justi\\Documents\\GitHub\\Writing\\jj writes\\(3) references\\(3-5) codes\\julia learning\\jl_notebook_cell_df34fa98e69747e1a8f8a730347b8e2f_Y510sZmlsZQ==.jl:15\n",
      " [3] top-level scope\n",
      "   @ c:\\Users\\justi\\Documents\\GitHub\\Writing\\jj writes\\(3) references\\(3-5) codes\\julia learning\\jl_notebook_cell_df34fa98e69747e1a8f8a730347b8e2f_Y510sZmlsZQ==.jl:21"
     ]
    }
   ],
   "source": [
    "# %% my own range\n",
    "struct Range{T}\n",
    "    start::T\n",
    "    step::T\n",
    "    stop::T\n",
    "end\n",
    "# We also implement a promotion rule,\n",
    "# so that `Range(0, 0.5, 1)` works\n",
    "# (i.,e., combining integers and floats as input is fine)\n",
    "Range(a, b, c) = Range(promote(a, b, c)...) # convenience!\n",
    "\n",
    "function Base.getindex(r::Range, i)\n",
    "    n = (r.stop - r.start)÷r.step\n",
    "    if (i ≤ 0 || i > n)\n",
    "        error(\"Index out of bounds!\")\n",
    "    end\n",
    "    return r.start + (i-1)*r.step\n",
    "end\n",
    "r = Range(0, 0.2, 4)\n",
    "r[5]\n",
    "r[514]\n",
    "r[-5]\n",
    "r[\"test\"]"
   ]
  },
  {
   "cell_type": "code",
   "execution_count": 7,
   "metadata": {},
   "outputs": [
    {
     "ename": "ErrorException",
     "evalue": "Index out of bounds!",
     "output_type": "error",
     "traceback": [
      "Index out of bounds!\n",
      "\n",
      "Stacktrace:\n",
      " [1] error(s::String)\n",
      "   @ Base .\\error.jl:35\n",
      " [2] getindex(r::Range{Float64}, i::Int64)\n",
      "   @ Main c:\\Users\\justi\\Documents\\GitHub\\Writing\\jj writes\\(3) references\\(3-5) codes\\julia learning\\jl_notebook_cell_df34fa98e69747e1a8f8a730347b8e2f_Y510sZmlsZQ==.jl:15\n",
      " [3] top-level scope\n",
      "   @ c:\\Users\\justi\\Documents\\GitHub\\Writing\\jj writes\\(3) references\\(3-5) codes\\julia learning\\jl_notebook_cell_df34fa98e69747e1a8f8a730347b8e2f_Y511sZmlsZQ==.jl:1"
     ]
    }
   ],
   "source": [
    "r[40]"
   ]
  },
  {
   "cell_type": "code",
   "execution_count": null,
   "metadata": {},
   "outputs": [],
   "source": [
    "@doc Base.OneTo"
   ]
  },
  {
   "cell_type": "code",
   "execution_count": null,
   "metadata": {},
   "outputs": [],
   "source": [
    "r = Range_jj(0, 0.5, 1)"
   ]
  },
  {
   "cell_type": "code",
   "execution_count": null,
   "metadata": {},
   "outputs": [],
   "source": []
  },
  {
   "cell_type": "markdown",
   "metadata": {},
   "source": [
    "# Part 3"
   ]
  },
  {
   "cell_type": "code",
   "execution_count": null,
   "metadata": {},
   "outputs": [],
   "source": [
    "using PyPlot \n",
    "PyPlot.rc(\"figure\", figsize = (5,3))\n",
    "using3D()"
   ]
  },
  {
   "cell_type": "code",
   "execution_count": null,
   "metadata": {},
   "outputs": [],
   "source": [
    "using OrdinaryDiffEq, StaticArrays\n",
    "\n",
    "function lorenz_rule(u,p,t)"
   ]
  },
  {
   "cell_type": "code",
   "execution_count": null,
   "metadata": {},
   "outputs": [],
   "source": [
    "using OrdinaryDiffEq\n",
    "using StaticArraysCore: SVector\n",
    "\n",
    "function thomas_rule(u, p, t)\n",
    "    x,y,z = u\n",
    "    b = p[1]\n",
    "    xdot = sin(y) - b*x\n",
    "    ydot = sin(z) - b*y\n",
    "    zdot = sin(x) - b*z\n",
    "    return SVector(xdot, ydot, zdot)\n",
    "end\n",
    "    \n",
    "# x\\dot ẋ \n",
    "# u\\_0 u₀ "
   ]
  },
  {
   "cell_type": "code",
   "execution_count": null,
   "metadata": {},
   "outputs": [],
   "source": []
  },
  {
   "cell_type": "code",
   "execution_count": 51,
   "metadata": {},
   "outputs": [],
   "source": [
    "using Measurements"
   ]
  },
  {
   "cell_type": "code",
   "execution_count": null,
   "metadata": {},
   "outputs": [],
   "source": [
    "using Distributions"
   ]
  },
  {
   "cell_type": "code",
   "execution_count": null,
   "metadata": {},
   "outputs": [],
   "source": [
    "x = -1.0:0.01:1\n",
    "UnivariateDistribution"
   ]
  },
  {
   "cell_type": "code",
   "execution_count": null,
   "metadata": {},
   "outputs": [],
   "source": [
    "d = Normal(0.1, 0.25)"
   ]
  },
  {
   "cell_type": "code",
   "execution_count": null,
   "metadata": {},
   "outputs": [],
   "source": [
    "a,b,c = 1,2,3"
   ]
  },
  {
   "cell_type": "code",
   "execution_count": null,
   "metadata": {},
   "outputs": [],
   "source": [
    "using DrWatson \n",
    "pars = @dict a b c "
   ]
  },
  {
   "cell_type": "code",
   "execution_count": null,
   "metadata": {},
   "outputs": [],
   "source": [
    "savename(pars)"
   ]
  },
  {
   "cell_type": "code",
   "execution_count": null,
   "metadata": {},
   "outputs": [],
   "source": [
    "\n"
   ]
  }
 ],
 "metadata": {
  "kernelspec": {
   "display_name": "Julia 1.10.5",
   "language": "julia",
   "name": "julia-1.10"
  },
  "language_info": {
   "file_extension": ".jl",
   "mimetype": "application/julia",
   "name": "julia",
   "version": "1.10.5"
  }
 },
 "nbformat": 4,
 "nbformat_minor": 2
}
