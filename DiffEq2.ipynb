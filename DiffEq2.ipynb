{
 "cells": [
  {
   "cell_type": "code",
   "execution_count": 5,
   "metadata": {},
   "outputs": [
    {
     "data": {
      "text/plain": [
       "retcode: Success\n",
       "Interpolation: 3rd order Hermite\n",
       "t: 2001-element Vector{Float64}:\n",
       "  0.0\n",
       "  0.01\n",
       "  0.02\n",
       "  0.03\n",
       "  0.04\n",
       "  0.05\n",
       "  0.060000000000000005\n",
       "  0.07\n",
       "  0.08\n",
       "  0.09\n",
       "  ⋮\n",
       " 19.920000000000314\n",
       " 19.930000000000316\n",
       " 19.940000000000317\n",
       " 19.95000000000032\n",
       " 19.96000000000032\n",
       " 19.970000000000322\n",
       " 19.980000000000324\n",
       " 19.990000000000325\n",
       " 20.0\n",
       "u: 2001-element Vector{Vector{Float64}}:\n",
       " [0.0, 1.0471975511965976]\n",
       " [0.010471975511965976, 1.0471975511965976]\n",
       " [0.020943951023931952, 1.0470928333554352]\n",
       " [0.031414879357486304, 1.0468834091566017]\n",
       " [0.04188371344905232, 1.0465693120324375]\n",
       " [0.05234940656937669, 1.046150597344396]\n",
       " [0.06281091254282066, 1.0456273423483986]\n",
       " [0.07326718596630465, 1.0449996461453193]\n",
       " [0.08371718242775784, 1.0442676296166633]\n",
       " [0.09415985872392447, 1.043431435345513]\n",
       " ⋮\n",
       " [-0.6752209213516657, 0.9208694250633547]\n",
       " [-0.6660122271010321, 0.9271201228264722]\n",
       " [-0.6567410258727674, 0.9332986763761494]\n",
       " [-0.6474080391090059, 0.9394040667397529]\n",
       " [-0.6380139984416083, 0.945435276310509]\n",
       " [-0.6285596456785032, 0.9513912893230593]\n",
       " [-0.6190457327852726, 0.9572710923361132]\n",
       " [-0.6094730218619115, 0.9630736747218571]\n",
       " [-0.5998422851150063, 0.9687980291615688]"
      ]
     },
     "metadata": {},
     "output_type": "display_data"
    }
   ],
   "source": [
    "using OrdinaryDiffEq # for solving ODEs\n",
    "pendulum(u, p, t) = [u[2], -sin(u[1])] # return the derivative given state, parameters, time\n",
    "u0 = [0, π/3] # initial condition for solving the ODE\n",
    "tspan = (0.0, 20.0) # timespan to solve in\n",
    "prob = ODEProblem(pendulum, u0, tspan)\n",
    "sol = solve(prob, Euler(); dt = 0.01)"
   ]
  },
  {
   "cell_type": "code",
   "execution_count": null,
   "metadata": {},
   "outputs": [],
   "source": []
  }
 ],
 "metadata": {
  "kernelspec": {
   "display_name": "Julia 1.10.5",
   "language": "julia",
   "name": "julia-1.10"
  },
  "language_info": {
   "file_extension": ".jl",
   "mimetype": "application/julia",
   "name": "julia",
   "version": "1.10.5"
  }
 },
 "nbformat": 4,
 "nbformat_minor": 2
}
